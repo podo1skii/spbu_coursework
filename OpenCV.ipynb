{
 "cells": [
  {
   "cell_type": "code",
   "execution_count": 270,
   "metadata": {},
   "outputs": [],
   "source": [
    "import cv2\n",
    "from matplotlib import pyplot as plt\n",
    "import numpy as np"
   ]
  },
  {
   "cell_type": "code",
   "execution_count": 271,
   "metadata": {},
   "outputs": [],
   "source": [
    "def view_image(image):\n",
    "    cv2.namedWindow('Display', 1)\n",
    "    image_normal_size = cv2.resize(image, (960, 540))\n",
    "    cv2.imshow('Display', image_normal_size)\n",
    "    cv2.waitKey(0)\n",
    "    cv2.destroyAllWindows()"
   ]
  },
  {
   "cell_type": "code",
   "execution_count": 272,
   "metadata": {},
   "outputs": [],
   "source": [
    "def HSL_color_selection(image):\n",
    "    \"\"\"\n",
    "    Apply color selection to the HSL images to blackout everything except for white and yellow lane lines.\n",
    "        Parameters:\n",
    "            image: An np.array compatible with plt.imshow.\n",
    "    \"\"\"\n",
    "    #Convert the input image to HSL\n",
    "    converted_image = cv2.cvtColor(image, cv2.COLOR_RGB2HLS)\n",
    "    \n",
    "    #White color mask\n",
    "    lower_threshold = np.uint8([0, 100, 0])\n",
    "    upper_threshold = np.uint8([255, 255, 255])\n",
    "    white_mask = cv2.inRange(converted_image, lower_threshold, upper_threshold)\n",
    "    \n",
    "    #Yellow color mask\n",
    "    lower_threshold = np.uint8([10, 0, 100])\n",
    "    upper_threshold = np.uint8([40, 255, 255])\n",
    "    yellow_mask = cv2.inRange(converted_image, lower_threshold, upper_threshold)\n",
    "    \n",
    "    #Combine white and yellow masks\n",
    "    mask = cv2.bitwise_or(white_mask, yellow_mask)\n",
    "    masked_image = cv2.bitwise_and(image, image, mask = mask)\n",
    "    \n",
    "    return masked_image"
   ]
  },
  {
   "cell_type": "code",
   "execution_count": 273,
   "metadata": {},
   "outputs": [],
   "source": [
    "def canny_detector(image, low_threshold = 50, high_threshold = 150):\n",
    "    \"\"\"\n",
    "    Apply Canny Edge Detection algorithm to the input image.\n",
    "        Parameters:\n",
    "            image: An np.array compatible with plt.imshow.\n",
    "            low_threshold (Default = 50).\n",
    "            high_threshold (Default = 150).\n",
    "    \"\"\"\n",
    "    return cv2.Canny(image, low_threshold, high_threshold)"
   ]
  },
  {
   "cell_type": "code",
   "execution_count": 274,
   "metadata": {},
   "outputs": [],
   "source": [
    "def gray_scale(image):\n",
    "    \"\"\"\n",
    "    Convert images to gray scale.\n",
    "        Parameters:\n",
    "            image: An np.array compatible with plt.imshow.\n",
    "    \"\"\"\n",
    "    return cv2.cvtColor(image, cv2.COLOR_RGB2GRAY)"
   ]
  },
  {
   "cell_type": "code",
   "execution_count": 461,
   "metadata": {},
   "outputs": [],
   "source": [
    "def region_selection(image):\n",
    "    \"\"\"\n",
    "    Determine and cut the region of interest in the input image.\n",
    "        Parameters:\n",
    "            image: An np.array compatible with plt.imshow.\n",
    "    \"\"\"\n",
    "    mask = np.zeros_like(image)   \n",
    "    #Defining a 3 channel or 1 channel color to fill the mask with depending on the input image\n",
    "    if len(image.shape) > 2:\n",
    "        channel_count = image.shape[2]\n",
    "        ignore_mask_color = (255,) * channel_count\n",
    "    else:\n",
    "        ignore_mask_color = 255\n",
    "    #We could have used fixed numbers as the vertices of the polygon,\n",
    "    #but they will not be applicable to images with different dimesnions.\n",
    "    rows, cols = image.shape[:2]\n",
    "    bottom_left  = [cols * 0.01, rows * 0.8]\n",
    "    top_left     = [cols * 0.01, rows * 0.7]\n",
    "    bottom_right = [cols * 0.99, rows * 0.8]\n",
    "    top_right    = [cols * 0.99, rows * 0.7]\n",
    "    vertices = np.array([[bottom_left, top_left, top_right, bottom_right]], dtype=np.int32)\n",
    "    cv2.fillPoly(mask, vertices, ignore_mask_color)\n",
    "    masked_image = cv2.bitwise_and(image, mask)\n",
    "    return masked_image"
   ]
  },
  {
   "cell_type": "code",
   "execution_count": 456,
   "metadata": {},
   "outputs": [],
   "source": [
    "def hough_transform(image):\n",
    "    \"\"\"\n",
    "    Determine and cut the region of interest in the input image.\n",
    "        Parameters:\n",
    "            image: The output of a Canny transform.\n",
    "    \"\"\"\n",
    "    rho = 1              #Distance resolution of the accumulator in pixels.\n",
    "    theta = np.pi/180    #Angle resolution of the accumulator in radians.\n",
    "    threshold = 20       #Only lines that are greater than threshold will be returned.\n",
    "    minLineLength = 20   #Line segments shorter than that are rejected.\n",
    "    maxLineGap = 300       #Maximum allowed gap between points on the same line to link them\n",
    "    return cv2.HoughLinesP(image, rho = rho, theta = theta, threshold = threshold,minLineLength = minLineLength, maxLineGap = maxLineGap)"
   ]
  },
  {
   "cell_type": "code",
   "execution_count": 457,
   "metadata": {},
   "outputs": [],
   "source": [
    "def draw_lines(image, lines, color = [255, 0, 0], thickness = 2):\n",
    "    \"\"\"\n",
    "    Draw lines onto the input image.\n",
    "        Parameters:\n",
    "            image: An np.array compatible with plt.imshow.\n",
    "            lines: The lines we want to draw.\n",
    "            color (Default = red): Line color.\n",
    "            thickness (Default = 2): Line thickness.\n",
    "    \"\"\"\n",
    "    image = np.copy(image)\n",
    "    for line in lines:\n",
    "        for x1,y1,x2,y2 in line:\n",
    "            cv2.line(image, (x1, y1), (x2, y2), color, thickness)\n",
    "    return image"
   ]
  },
  {
   "cell_type": "code",
   "execution_count": null,
   "metadata": {},
   "outputs": [],
   "source": []
  },
  {
   "cell_type": "code",
   "execution_count": 438,
   "metadata": {},
   "outputs": [],
   "source": [
    "def average_slope_intercept(lines, middle_x):\n",
    "    \"\"\"\n",
    "    Find the slope and intercept of the left and right lanes of each image.\n",
    "        Parameters:\n",
    "            lines: The output lines from Hough Transform.\n",
    "    \"\"\"\n",
    "    left_lines    = [] #(slope, intercept)\n",
    "    left_weights  = [] #(length,)\n",
    "    right_lines   = [] #(slope, intercept)\n",
    "    right_weights = [] #(length,)\n",
    "    \n",
    "    for line in lines:\n",
    "        for x1, y1, x2, y2 in line:\n",
    "            if x1 == x2:\n",
    "                continue\n",
    "            slope = (y2 - y1) / (x2 - x1)\n",
    "            if np.absolute(slope) < 0.1:\n",
    "                continue\n",
    "            print('Slope:', slope)\n",
    "            intercept = y1 - (slope * x1)\n",
    "            length = np.sqrt(((y2 - y1) ** 2) + ((x2 - x1) ** 2))\n",
    "            if (slope < 0 and x1 < middle_x):\n",
    "                left_lines.append((slope, intercept))\n",
    "                left_weights.append((length))\n",
    "            elif (slope > 0 and x1 > middle_x):\n",
    "                right_lines.append((slope, intercept))\n",
    "                right_weights.append((length))\n",
    "            else:\n",
    "                continue\n",
    "    left_lane  = np.dot(left_weights,  left_lines) / np.sum(left_weights)  if len(left_weights) > 0 else None\n",
    "    right_lane = np.dot(right_weights, right_lines) / np.sum(right_weights) if len(right_weights) > 0 else None\n",
    "    return left_lane, right_lane"
   ]
  },
  {
   "cell_type": "code",
   "execution_count": 439,
   "metadata": {},
   "outputs": [],
   "source": [
    "def pixel_points(y1, y2, line):\n",
    "    \"\"\"\n",
    "    Converts the slope and intercept of each line into pixel points.\n",
    "        Parameters:\n",
    "            y1: y-value of the line's starting point.\n",
    "            y2: y-value of the line's end point.\n",
    "            line: The slope and intercept of the line.\n",
    "    \"\"\"\n",
    "    if line is None:\n",
    "        return None\n",
    "    slope, intercept = line\n",
    "    x1 = int((y1 - intercept)/slope)\n",
    "    x2 = int((y2 - intercept)/slope)\n",
    "    y1 = int(y1)\n",
    "    y2 = int(y2)\n",
    "    return ((x1, y1), (x2, y2))"
   ]
  },
  {
   "cell_type": "code",
   "execution_count": 440,
   "metadata": {},
   "outputs": [],
   "source": [
    "def lane_lines(image, lines):\n",
    "    \"\"\"\n",
    "    Create full lenght lines from pixel points.\n",
    "        Parameters:\n",
    "            image: The input test image.\n",
    "            lines: The output lines from Hough Transform.\n",
    "    \"\"\"\n",
    "    left_lane, right_lane = average_slope_intercept(lines, image.shape[0]/2)\n",
    "    y1 = image.shape[0]\n",
    "    y2 = y1 * 0.6\n",
    "    left_line  = pixel_points(y1, y2, left_lane)\n",
    "    right_line = pixel_points(y1, y2, right_lane)\n",
    "    return left_line, right_line\n",
    "\n",
    "def lane_lines2(image, lines):\n",
    "    new_lines = []\n",
    "    for line in lines:\n",
    "        for x1, y1, x2, y2 in line:\n",
    "            new_lines.append(((x1,y1),(x2, y2)))\n",
    "    return new_lines\n",
    "    \n",
    "def draw_lane_lines(image, lines, color=[255, 0, 0], thickness=12):\n",
    "    \"\"\"\n",
    "    Draw lines onto the input image.\n",
    "        Parameters:\n",
    "            image: The input test image.\n",
    "            lines: The output lines from Hough Transform.\n",
    "            color (Default = red): Line color.\n",
    "            thickness (Default = 12): Line thickness. \n",
    "    \"\"\"\n",
    "    line_image = np.zeros_like(image)\n",
    "    for line in lines:\n",
    "        if line is not None:\n",
    "            cv2.line(line_image, *line,  color, thickness)\n",
    "    return cv2.addWeighted(image, 1.0, line_image, 1.0, 0.0)"
   ]
  },
  {
   "cell_type": "code",
   "execution_count": 441,
   "metadata": {},
   "outputs": [],
   "source": [
    "def gaussian_smoothing(image, kernel_size = 13):\n",
    "    \"\"\"\n",
    "    Apply Gaussian filter to the input image.\n",
    "        Parameters:\n",
    "            image: An np.array compatible with plt.imshow.\n",
    "            kernel_size (Default = 13): The size of the Gaussian kernel will affect the performance of the detector.\n",
    "            It must be an odd number (3, 5, 7, ...).\n",
    "    \"\"\"\n",
    "    return cv2.GaussianBlur(image, (kernel_size, kernel_size), 0)"
   ]
  },
  {
   "cell_type": "code",
   "execution_count": 442,
   "metadata": {},
   "outputs": [],
   "source": [
    "def process_frame(frame):\n",
    "    color_selected_frame = HSL_color_selection(frame)\n",
    "    gray_frame = gray_scale(color_selected_frame)\n",
    "    gaussian_frame = gaussian_smoothing(color_selected_frame)\n",
    "    edge_detected_frame = canny_detector(gaussian_frame)\n",
    "    masked_frame = region_selection(edge_detected_frame)\n",
    "    hough_lines = hough_transform(masked_frame)\n",
    "    print('End of processing')\n",
    "    proc_frame = draw_lane_lines(frame, lane_lines(frame, hough_lines))\n",
    "    view_image(proc_frame)\n",
    "    print('Line appended')\n",
    "    print('End of appending')\n",
    "    return proc_frame"
   ]
  },
  {
   "cell_type": "code",
   "execution_count": 469,
   "metadata": {},
   "outputs": [],
   "source": [
    "frame = cv2.imread(\"./test_road3.png\")"
   ]
  },
  {
   "cell_type": "code",
   "execution_count": 470,
   "metadata": {},
   "outputs": [],
   "source": [
    "# color_selected_frame = HSL_color_selection(frame)\n",
    "# edge_detected_frame = canny_detector(color_selected_frame, 250,1000)\n",
    "# masked_frame = region_selection(edge_detected_frame)"
   ]
  },
  {
   "cell_type": "code",
   "execution_count": null,
   "metadata": {},
   "outputs": [
    {
     "name": "stdout",
     "output_type": "stream",
     "text": [
      "End of processing\n",
      "Slope: -0.2872340425531915\n",
      "Slope: -0.30522088353413657\n",
      "Slope: -0.30528846153846156\n",
      "Slope: 0.6714975845410628\n",
      "Slope: 0.6217228464419475\n",
      "Slope: -0.3054892601431981\n",
      "Slope: 0.6717171717171717\n",
      "Slope: 0.6243654822335025\n",
      "Slope: -0.2857142857142857\n",
      "Slope: -0.2863961813842482\n",
      "Slope: -0.3042505592841163\n",
      "Slope: -1.234375\n",
      "Slope: -0.36231884057971014\n",
      "Slope: -0.28661087866108786\n",
      "Slope: 0.2474747474747475\n",
      "Slope: -0.29310344827586204\n",
      "Slope: -1.3725490196078431\n",
      "Slope: -0.3045356371490281\n",
      "Slope: 0.6688311688311688\n",
      "Slope: 0.22935779816513763\n",
      "Slope: -1.0\n",
      "Slope: 0.2328767123287671\n",
      "Slope: -0.30454545454545456\n",
      "Slope: -0.30606860158311344\n",
      "Slope: -0.3056179775280899\n",
      "Slope: 0.6030927835051546\n",
      "Slope: 0.13877551020408163\n",
      "Slope: -1.1142857142857143\n",
      "Slope: 0.14606741573033707\n",
      "Slope: 0.6716417910447762\n",
      "Slope: -0.2932330827067669\n",
      "Slope: 0.30718954248366015\n",
      "Slope: -0.7837837837837838\n",
      "Slope: 0.15948275862068967\n",
      "Slope: -0.3250517598343685\n",
      "Slope: 0.6745283018867925\n",
      "Slope: -1.4901960784313726\n",
      "Slope: 0.14035087719298245\n",
      "Slope: -0.2894736842105263\n",
      "Slope: 0.7237569060773481\n",
      "Slope: -0.2875\n",
      "Slope: -1.3333333333333333\n",
      "Slope: 0.67\n",
      "Slope: 0.10365853658536585\n",
      "Slope: -0.2878464818763326\n",
      "Slope: -1.02803738317757\n",
      "Slope: 0.1572052401746725\n",
      "Slope: -0.3026315789473684\n",
      "Slope: 0.5988372093023255\n",
      "Slope: 0.24878048780487805\n",
      "Slope: -0.34360189573459715\n",
      "Slope: -0.3055555555555556\n",
      "Slope: -0.10429447852760736\n",
      "Slope: 0.2474747474747475\n",
      "Slope: 0.10909090909090909\n",
      "Slope: 0.5391304347826087\n",
      "Slope: 0.2471264367816092\n",
      "Slope: -0.3057553956834532\n"
     ]
    }
   ],
   "source": [
    "images = process_frame(frame)"
   ]
  },
  {
   "cell_type": "code",
   "execution_count": null,
   "metadata": {},
   "outputs": [],
   "source": []
  },
  {
   "cell_type": "code",
   "execution_count": null,
   "metadata": {},
   "outputs": [],
   "source": []
  }
 ],
 "metadata": {
  "kernelspec": {
   "display_name": "Python 3",
   "language": "python",
   "name": "python3"
  },
  "language_info": {
   "codemirror_mode": {
    "name": "ipython",
    "version": 3
   },
   "file_extension": ".py",
   "mimetype": "text/x-python",
   "name": "python",
   "nbconvert_exporter": "python",
   "pygments_lexer": "ipython3",
   "version": "3.7.7"
  }
 },
 "nbformat": 4,
 "nbformat_minor": 4
}
